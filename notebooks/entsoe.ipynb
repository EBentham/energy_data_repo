{
 "cells": [
  {
   "cell_type": "code",
   "execution_count": 1,
   "id": "91ead823",
   "metadata": {},
   "outputs": [
    {
     "name": "stdout",
     "output_type": "stream",
     "text": [
      "✅ API Key loaded successfully.\n"
     ]
    }
   ],
   "source": [
    "# Cell 1: Imports and Environment Setup\n",
    "import requests\n",
    "import os\n",
    "import pandas as pd\n",
    "from dotenv import load_dotenv\n",
    "from datetime import datetime, timedelta\n",
    "\n",
    "# Load environment variables from the project's .env file\n",
    "# This allows us to use the same secure method for handling API keys\n",
    "load_dotenv()\n",
    "\n",
    "# Get the API key from the environment\n",
    "# Make sure your .env file is in the project's root directory\n",
    "api_key = os.getenv(\"ENTSOE_API_KEY\")\n",
    "\n",
    "# --- Static Configuration ---\n",
    "BASE_URL = \"https://web-api.tp.entsoe.eu/api\"\n",
    "\n",
    "# Check if the API key was loaded successfully\n",
    "if not api_key:\n",
    "    print(\"🔴 ERROR: ENTSO_E_API_KEY not found in environment.\")\n",
    "    print(\"Please ensure a .env file exists in the project root and contains your key.\")\n",
    "else:\n",
    "    print(\"✅ API Key loaded successfully.\")"
   ]
  },
  {
   "cell_type": "code",
   "execution_count": 2,
   "id": "9f8564e3",
   "metadata": {},
   "outputs": [
    {
     "name": "stdout",
     "output_type": "stream",
     "text": [
      "▶️ Final URL being requested:\n",
      "https://web-api.tp.entsoe.eu/api?documentType=A75&processType=A16&in_Domain=10YGB----------A&securityToken=c5b1e18e-d381-41fd-a66b-b5ecf0b57b83&periodStart=202401150000&periodEnd=202401160000\n",
      "\n",
      "📡 Making API request...\n",
      "\n",
      "Status Code: 200\n",
      "✅ SUCCESS: Request was successful!\n",
      "\n",
      "--- Response Content (first 1000 characters) ---\n",
      "<?xml version=\"1.0\" encoding=\"UTF-8\"?>\n",
      "<Acknowledgement_MarketDocument\n",
      "\txmlns=\"urn:iec62325.351:tc57wg16:451-1:acknowledgementdocument:7:0\">\n",
      "\t<mRID>05e4586e-b99a-4</mRID>\n",
      "\t<createdDateTime>2025-08-11T16:03:24Z</createdDateTime>\n",
      "\n",
      "\t<sender_MarketParticipant.mRID codingScheme=\"A01\">10X1001A1001A450</sender_MarketParticipant.mRID>\n",
      "\t<sender_MarketParticipant.marketRole.type>A32</sender_MarketParticipant.marketRole.type>\n",
      "\n",
      "\t<receiver_MarketParticipant.mRID codingScheme=\"A01\">10X1001A1001A450</receiver_MarketParticipant.mRID>\n",
      "\t<receiver_MarketParticipant.marketRole.type>A39</receiver_MarketParticipant.marketRole.type>\n",
      "\n",
      "\t\n",
      "\t<received_MarketDocument.createdDateTime>2025-08-11T16:03:24Z</received_MarketDocument.createdDateTime>\n",
      "\n",
      "\n",
      "\t<Reason>\n",
      "\t\t<code>999</code>\n",
      "\t\t<text>No matching data found for Data item Aggregated Generation per Type [16.1.B&amp;C] (10YGB----------A) and interval 2024-01-15T00:00:00.000Z/2024-01-16T00:00:00.000Z.</text>\n",
      "\t</Reason>\n",
      "\n",
      "\n",
      "</Acknowledgement_MarketDocument>\n",
      "\n"
     ]
    }
   ],
   "source": [
    "# Cell 2: CORRECTED Interactive API Query Builder\n",
    "\n",
    "# --- EDIT THESE PARAMETERS TO BUILD YOUR QUERY ---\n",
    "\n",
    "# 1. Set the time range using the required YYYYMMDDHHMM string format\n",
    "# This is the most reliable way to ensure correctness.\n",
    "# A full day from Jan 15th 00:00 to Jan 16th 00:00\n",
    "period_start = '202401150000'\n",
    "period_end   = '202401160000'\n",
    "\n",
    "# 2. Define the core query parameters\n",
    "# Find codes here: https://transparency.entsoe.eu/content/static_content/Static%20content/web%20api/Guide.html\n",
    "params = {\n",
    "    'documentType': 'A75',\n",
    "    'processType': 'A16',\n",
    "    'in_Domain': '10YGB----------A',\n",
    "    # 'in_Domain': '',\n",
    "    # 'out_Domain': '',\n",
    "}\n",
    "\n",
    "# --- END OF EDITABLE SECTION ---\n",
    "\n",
    "\n",
    "# --- Request Execution Logic (No need to edit below) ---\n",
    "\n",
    "# Add the security token and date strings to the parameters\n",
    "params['securityToken'] = api_key\n",
    "params['periodStart'] = period_start\n",
    "params['periodEnd'] = period_end\n",
    "\n",
    "# Clean up any empty parameters before making the request\n",
    "final_params = {k: v for k, v in params.items() if v}\n",
    "\n",
    "# Create the request object to easily inspect the final URL\n",
    "req = requests.Request('GET', BASE_URL, params=final_params)\n",
    "prepared_req = req.prepare()\n",
    "full_url = prepared_req.url\n",
    "\n",
    "print(f\"▶️ Final URL being requested:\\n{full_url}\\n\")\n",
    "\n",
    "\n",
    "# Make the actual API call\n",
    "print(\"📡 Making API request...\")\n",
    "try:\n",
    "    response = requests.get(BASE_URL, params=final_params)\n",
    "    \n",
    "    print(f\"\\nStatus Code: {response.status_code}\")\n",
    "    response.raise_for_status()\n",
    "    \n",
    "    print(\"✅ SUCCESS: Request was successful!\")\n",
    "    print(\"\\n--- Response Content (first 1000 characters) ---\")\n",
    "    print(response.text[:1000])\n",
    "\n",
    "except requests.exceptions.HTTPError as http_err:\n",
    "    print(f\"🔴 HTTP ERROR: {http_err}\")\n",
    "    print(\"\\n--- Full Error Response ---\")\n",
    "    print(response.text)\n",
    "except requests.exceptions.RequestException as req_err:\n",
    "    print(f\"🔴 REQUEST ERROR: {req_err}\")\n",
    "except Exception as e:\n",
    "    print(f\"🔴 UNEXPECTED ERROR: {e}\")"
   ]
  },
  {
   "cell_type": "code",
   "execution_count": 3,
   "id": "2edbc225",
   "metadata": {},
   "outputs": [
    {
     "data": {
      "text/plain": [
       "{'documentType': 'A75',\n",
       " 'processType': 'A16',\n",
       " 'in_Domain': '10YGB----------A',\n",
       " 'securityToken': 'c5b1e18e-d381-41fd-a66b-b5ecf0b57b83',\n",
       " 'periodStart': '202401150000',\n",
       " 'periodEnd': '202401160000'}"
      ]
     },
     "execution_count": 3,
     "metadata": {},
     "output_type": "execute_result"
    }
   ],
   "source": [
    "final_params"
   ]
  },
  {
   "cell_type": "code",
   "execution_count": null,
   "id": "90a549bb",
   "metadata": {},
   "outputs": [],
   "source": [
    "{'processType': 'A16',\n",
    " 'documentType': 'A75',\n",
    " 'periodStart': '202401150000',\n",
    " 'periodEnd': '202401160000',\n",
    " 'outBiddingZone_Domain': '10YGB----------A'}"
   ]
  },
  {
   "cell_type": "code",
   "execution_count": null,
   "id": "5b69a302",
   "metadata": {},
   "outputs": [],
   "source": [
    "{\n",
    " 'documentType': 'A75',\n",
    " 'processType': 'A16',\n",
    " 'in_Domain': '10YGB----------A',\n",
    " 'securityToken': 'c5b1e18e-d381-41fd-a66b-b5ecf0b57b83',\n",
    " 'periodStart': '202401150000',\n",
    " 'periodEnd': '202401160000'\n",
    "}"
   ]
  },
  {
   "cell_type": "code",
   "execution_count": 24,
   "id": "380f22cf",
   "metadata": {},
   "outputs": [
    {
     "data": {
      "text/plain": [
       "{'documentType': 'A75',\n",
       " 'processType': 'A16',\n",
       " 'outBiddingZone_Domain': '10YGB----------A',\n",
       " 'securityToken': 'c5b1e18e-d381-41fd-a66b-b5ecf0b57b83',\n",
       " 'periodStart': '202401150000',\n",
       " 'periodEnd': '202401160000'}"
      ]
     },
     "execution_count": 24,
     "metadata": {},
     "output_type": "execute_result"
    }
   ],
   "source": [
    "params"
   ]
  },
  {
   "cell_type": "code",
   "execution_count": 12,
   "id": "77c5e01b",
   "metadata": {},
   "outputs": [
    {
     "data": {
      "text/plain": [
       "<Response [403]>"
      ]
     },
     "execution_count": 12,
     "metadata": {},
     "output_type": "execute_result"
    }
   ],
   "source": [
    "requests.get(BASE_URL, params=final_params)"
   ]
  },
  {
   "cell_type": "code",
   "execution_count": 14,
   "id": "cbbdc06e",
   "metadata": {},
   "outputs": [
    {
     "ename": "JSONDecodeError",
     "evalue": "Expecting value: line 1 column 1 (char 0)",
     "output_type": "error",
     "traceback": [
      "\u001b[1;31m---------------------------------------------------------------------------\u001b[0m",
      "\u001b[1;31mJSONDecodeError\u001b[0m                           Traceback (most recent call last)",
      "File \u001b[1;32m~\\anaconda3\\Lib\\site-packages\\requests\\models.py:971\u001b[0m, in \u001b[0;36mResponse.json\u001b[1;34m(self, **kwargs)\u001b[0m\n\u001b[0;32m    970\u001b[0m \u001b[38;5;28;01mtry\u001b[39;00m:\n\u001b[1;32m--> 971\u001b[0m     \u001b[38;5;28;01mreturn\u001b[39;00m complexjson\u001b[38;5;241m.\u001b[39mloads(\u001b[38;5;28mself\u001b[39m\u001b[38;5;241m.\u001b[39mtext, \u001b[38;5;241m*\u001b[39m\u001b[38;5;241m*\u001b[39mkwargs)\n\u001b[0;32m    972\u001b[0m \u001b[38;5;28;01mexcept\u001b[39;00m JSONDecodeError \u001b[38;5;28;01mas\u001b[39;00m e:\n\u001b[0;32m    973\u001b[0m     \u001b[38;5;66;03m# Catch JSON-related errors and raise as requests.JSONDecodeError\u001b[39;00m\n\u001b[0;32m    974\u001b[0m     \u001b[38;5;66;03m# This aliases json.JSONDecodeError and simplejson.JSONDecodeError\u001b[39;00m\n",
      "File \u001b[1;32m~\\anaconda3\\Lib\\json\\__init__.py:346\u001b[0m, in \u001b[0;36mloads\u001b[1;34m(s, cls, object_hook, parse_float, parse_int, parse_constant, object_pairs_hook, **kw)\u001b[0m\n\u001b[0;32m    343\u001b[0m \u001b[38;5;28;01mif\u001b[39;00m (\u001b[38;5;28mcls\u001b[39m \u001b[38;5;129;01mis\u001b[39;00m \u001b[38;5;28;01mNone\u001b[39;00m \u001b[38;5;129;01mand\u001b[39;00m object_hook \u001b[38;5;129;01mis\u001b[39;00m \u001b[38;5;28;01mNone\u001b[39;00m \u001b[38;5;129;01mand\u001b[39;00m\n\u001b[0;32m    344\u001b[0m         parse_int \u001b[38;5;129;01mis\u001b[39;00m \u001b[38;5;28;01mNone\u001b[39;00m \u001b[38;5;129;01mand\u001b[39;00m parse_float \u001b[38;5;129;01mis\u001b[39;00m \u001b[38;5;28;01mNone\u001b[39;00m \u001b[38;5;129;01mand\u001b[39;00m\n\u001b[0;32m    345\u001b[0m         parse_constant \u001b[38;5;129;01mis\u001b[39;00m \u001b[38;5;28;01mNone\u001b[39;00m \u001b[38;5;129;01mand\u001b[39;00m object_pairs_hook \u001b[38;5;129;01mis\u001b[39;00m \u001b[38;5;28;01mNone\u001b[39;00m \u001b[38;5;129;01mand\u001b[39;00m \u001b[38;5;129;01mnot\u001b[39;00m kw):\n\u001b[1;32m--> 346\u001b[0m     \u001b[38;5;28;01mreturn\u001b[39;00m _default_decoder\u001b[38;5;241m.\u001b[39mdecode(s)\n\u001b[0;32m    347\u001b[0m \u001b[38;5;28;01mif\u001b[39;00m \u001b[38;5;28mcls\u001b[39m \u001b[38;5;129;01mis\u001b[39;00m \u001b[38;5;28;01mNone\u001b[39;00m:\n",
      "File \u001b[1;32m~\\anaconda3\\Lib\\json\\decoder.py:337\u001b[0m, in \u001b[0;36mJSONDecoder.decode\u001b[1;34m(self, s, _w)\u001b[0m\n\u001b[0;32m    333\u001b[0m \u001b[38;5;250m\u001b[39m\u001b[38;5;124;03m\"\"\"Return the Python representation of ``s`` (a ``str`` instance\u001b[39;00m\n\u001b[0;32m    334\u001b[0m \u001b[38;5;124;03mcontaining a JSON document).\u001b[39;00m\n\u001b[0;32m    335\u001b[0m \n\u001b[0;32m    336\u001b[0m \u001b[38;5;124;03m\"\"\"\u001b[39;00m\n\u001b[1;32m--> 337\u001b[0m obj, end \u001b[38;5;241m=\u001b[39m \u001b[38;5;28mself\u001b[39m\u001b[38;5;241m.\u001b[39mraw_decode(s, idx\u001b[38;5;241m=\u001b[39m_w(s, \u001b[38;5;241m0\u001b[39m)\u001b[38;5;241m.\u001b[39mend())\n\u001b[0;32m    338\u001b[0m end \u001b[38;5;241m=\u001b[39m _w(s, end)\u001b[38;5;241m.\u001b[39mend()\n",
      "File \u001b[1;32m~\\anaconda3\\Lib\\json\\decoder.py:355\u001b[0m, in \u001b[0;36mJSONDecoder.raw_decode\u001b[1;34m(self, s, idx)\u001b[0m\n\u001b[0;32m    354\u001b[0m \u001b[38;5;28;01mexcept\u001b[39;00m \u001b[38;5;167;01mStopIteration\u001b[39;00m \u001b[38;5;28;01mas\u001b[39;00m err:\n\u001b[1;32m--> 355\u001b[0m     \u001b[38;5;28;01mraise\u001b[39;00m JSONDecodeError(\u001b[38;5;124m\"\u001b[39m\u001b[38;5;124mExpecting value\u001b[39m\u001b[38;5;124m\"\u001b[39m, s, err\u001b[38;5;241m.\u001b[39mvalue) \u001b[38;5;28;01mfrom\u001b[39;00m \u001b[38;5;28;01mNone\u001b[39;00m\n\u001b[0;32m    356\u001b[0m \u001b[38;5;28;01mreturn\u001b[39;00m obj, end\n",
      "\u001b[1;31mJSONDecodeError\u001b[0m: Expecting value: line 1 column 1 (char 0)",
      "\nDuring handling of the above exception, another exception occurred:\n",
      "\u001b[1;31mJSONDecodeError\u001b[0m                           Traceback (most recent call last)",
      "Cell \u001b[1;32mIn[14], line 1\u001b[0m\n\u001b[1;32m----> 1\u001b[0m requests\u001b[38;5;241m.\u001b[39mget(\u001b[38;5;124m\"\u001b[39m\u001b[38;5;124mhttps://web-api.tp.entsoe.eu/api?securityToken=c5b1e18e-d381-41fd-a66b-b5ecf0b57b83&documentType=A69&processType=A01&in_Domain=10Y1001A1001A83F&out_Domain=10Y1001A1001A83F&periodStart=202508110000&periodEnd=202508112300\u001b[39m\u001b[38;5;124m\"\u001b[39m)\u001b[38;5;241m.\u001b[39mjson()\n",
      "File \u001b[1;32m~\\anaconda3\\Lib\\site-packages\\requests\\models.py:975\u001b[0m, in \u001b[0;36mResponse.json\u001b[1;34m(self, **kwargs)\u001b[0m\n\u001b[0;32m    971\u001b[0m     \u001b[38;5;28;01mreturn\u001b[39;00m complexjson\u001b[38;5;241m.\u001b[39mloads(\u001b[38;5;28mself\u001b[39m\u001b[38;5;241m.\u001b[39mtext, \u001b[38;5;241m*\u001b[39m\u001b[38;5;241m*\u001b[39mkwargs)\n\u001b[0;32m    972\u001b[0m \u001b[38;5;28;01mexcept\u001b[39;00m JSONDecodeError \u001b[38;5;28;01mas\u001b[39;00m e:\n\u001b[0;32m    973\u001b[0m     \u001b[38;5;66;03m# Catch JSON-related errors and raise as requests.JSONDecodeError\u001b[39;00m\n\u001b[0;32m    974\u001b[0m     \u001b[38;5;66;03m# This aliases json.JSONDecodeError and simplejson.JSONDecodeError\u001b[39;00m\n\u001b[1;32m--> 975\u001b[0m     \u001b[38;5;28;01mraise\u001b[39;00m RequestsJSONDecodeError(e\u001b[38;5;241m.\u001b[39mmsg, e\u001b[38;5;241m.\u001b[39mdoc, e\u001b[38;5;241m.\u001b[39mpos)\n",
      "\u001b[1;31mJSONDecodeError\u001b[0m: Expecting value: line 1 column 1 (char 0)"
     ]
    }
   ],
   "source": [
    "requests.get(\"\")"
   ]
  },
  {
   "cell_type": "code",
   "execution_count": null,
   "id": "77cf48b9",
   "metadata": {},
   "outputs": [],
   "source": [
    "https://web-api.tp.entsoe.eu/api?securityToken=c5b1e18e-d381-41fd-a66b-b5ecf0b57b83&documentType=A69&processType=A01&in_Domain=10Y1001A1001A83F&out_Domain=10Y1001A1001A83F&periodStart=202508110000&periodEnd=202508112300"
   ]
  },
  {
   "cell_type": "code",
   "execution_count": null,
   "id": "d66560eb",
   "metadata": {},
   "outputs": [],
   "source": [
    "https://transparency.entsoe.eu/api?documentType=A75&processType=A16&outBiddingZone_Domain=10YGB----------A&securityToken=c5b1e18e-d381-41fd-a66b-b5ecf0b57b83&periodStart=202401150000&periodEnd=202401160000"
   ]
  }
 ],
 "metadata": {
  "kernelspec": {
   "display_name": "Python 3 (ipykernel)",
   "language": "python",
   "name": "python3"
  },
  "language_info": {
   "codemirror_mode": {
    "name": "ipython",
    "version": 3
   },
   "file_extension": ".py",
   "mimetype": "text/x-python",
   "name": "python",
   "nbconvert_exporter": "python",
   "pygments_lexer": "ipython3",
   "version": "3.11.5"
  }
 },
 "nbformat": 4,
 "nbformat_minor": 5
}
