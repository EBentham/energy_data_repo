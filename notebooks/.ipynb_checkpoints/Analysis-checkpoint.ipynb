{
 "cells": [
  {
   "cell_type": "code",
   "execution_count": 1,
   "id": "d36f711a",
   "metadata": {},
   "outputs": [],
   "source": [
    "import pandas as pd\n",
    "import matplotlib.pyplot as plt\n",
    "import seaborn as sns\n",
    "\n",
    "sns.set_theme()"
   ]
  },
  {
   "cell_type": "code",
   "execution_count": 9,
   "id": "3000a251",
   "metadata": {},
   "outputs": [],
   "source": [
    "df_prices = pd.read_csv(r\"C:\\Users\\Bobbo\\OneDrive\\Desktop\\Python\\energy_data_repo\\data\\silver\\entsoe\\day_ahead_prices\\prices.csv\", parse_dates=[\"timestamp_utc\"])"
   ]
  },
  {
   "cell_type": "code",
   "execution_count": 10,
   "id": "b1366312",
   "metadata": {},
   "outputs": [],
   "source": [
    "df_load = pd.read_csv(r\"C:\\Users\\Bobbo\\OneDrive\\Desktop\\Python\\energy_data_repo\\data\\silver\\entsoe\\total_load\\load.csv\", parse_dates=[\"timestamp_utc\"])"
   ]
  },
  {
   "cell_type": "code",
   "execution_count": 11,
   "id": "41d630bb",
   "metadata": {},
   "outputs": [],
   "source": [
    "df_generation = pd.read_csv(r\"C:\\Users\\Bobbo\\OneDrive\\Desktop\\Python\\energy_data_repo\\data\\silver\\entsoe\\generation_per_type\\generation.csv\", parse_dates=[\"timestamp_utc\"])"
   ]
  },
  {
   "cell_type": "code",
   "execution_count": 7,
   "id": "e7f3006e",
   "metadata": {},
   "outputs": [
    {
     "data": {
      "text/plain": [
       "0       2020-01-01 00:00:00+00:00\n",
       "1       2020-01-01 01:00:00+00:00\n",
       "2       2020-01-01 02:00:00+00:00\n",
       "3       2020-01-01 03:00:00+00:00\n",
       "4       2020-01-01 04:00:00+00:00\n",
       "                   ...           \n",
       "64250   2025-08-01 22:45:00+00:00\n",
       "64251   2025-08-01 23:00:00+00:00\n",
       "64252   2025-08-01 23:15:00+00:00\n",
       "64253   2025-08-01 23:30:00+00:00\n",
       "64254   2025-08-01 23:45:00+00:00\n",
       "Name: timestamp_utc, Length: 64255, dtype: datetime64[ns, UTC]"
      ]
     },
     "execution_count": 7,
     "metadata": {},
     "output_type": "execute_result"
    }
   ],
   "source": [
    "pd.to_datetime(df_load[\"timestamp_utc\"])"
   ]
  },
  {
   "cell_type": "code",
   "execution_count": 5,
   "id": "4dbb65ce",
   "metadata": {},
   "outputs": [
    {
     "data": {
      "text/html": [
       "<div>\n",
       "<style scoped>\n",
       "    .dataframe tbody tr th:only-of-type {\n",
       "        vertical-align: middle;\n",
       "    }\n",
       "\n",
       "    .dataframe tbody tr th {\n",
       "        vertical-align: top;\n",
       "    }\n",
       "\n",
       "    .dataframe thead th {\n",
       "        text-align: right;\n",
       "    }\n",
       "</style>\n",
       "<table border=\"1\" class=\"dataframe\">\n",
       "  <thead>\n",
       "    <tr style=\"text-align: right;\">\n",
       "      <th></th>\n",
       "      <th>timestamp_utc</th>\n",
       "      <th>price_eur_per_mwh</th>\n",
       "    </tr>\n",
       "  </thead>\n",
       "  <tbody>\n",
       "    <tr>\n",
       "      <th>0</th>\n",
       "      <td>2019-12-31 23:00:00+00:00</td>\n",
       "      <td>41.88</td>\n",
       "    </tr>\n",
       "    <tr>\n",
       "      <th>1</th>\n",
       "      <td>2020-01-01 00:00:00+00:00</td>\n",
       "      <td>38.60</td>\n",
       "    </tr>\n",
       "    <tr>\n",
       "      <th>2</th>\n",
       "      <td>2020-01-01 01:00:00+00:00</td>\n",
       "      <td>36.55</td>\n",
       "    </tr>\n",
       "    <tr>\n",
       "      <th>3</th>\n",
       "      <td>2020-01-01 02:00:00+00:00</td>\n",
       "      <td>32.32</td>\n",
       "    </tr>\n",
       "    <tr>\n",
       "      <th>4</th>\n",
       "      <td>2020-01-01 03:00:00+00:00</td>\n",
       "      <td>30.85</td>\n",
       "    </tr>\n",
       "    <tr>\n",
       "      <th>...</th>\n",
       "      <td>...</td>\n",
       "      <td>...</td>\n",
       "    </tr>\n",
       "    <tr>\n",
       "      <th>48517</th>\n",
       "      <td>2025-08-02 16:00:00+00:00</td>\n",
       "      <td>34.31</td>\n",
       "    </tr>\n",
       "    <tr>\n",
       "      <th>48518</th>\n",
       "      <td>2025-08-02 17:00:00+00:00</td>\n",
       "      <td>65.01</td>\n",
       "    </tr>\n",
       "    <tr>\n",
       "      <th>48519</th>\n",
       "      <td>2025-08-02 18:00:00+00:00</td>\n",
       "      <td>74.53</td>\n",
       "    </tr>\n",
       "    <tr>\n",
       "      <th>48520</th>\n",
       "      <td>2025-08-02 19:00:00+00:00</td>\n",
       "      <td>99.64</td>\n",
       "    </tr>\n",
       "    <tr>\n",
       "      <th>48521</th>\n",
       "      <td>2025-08-02 21:00:00+00:00</td>\n",
       "      <td>80.50</td>\n",
       "    </tr>\n",
       "  </tbody>\n",
       "</table>\n",
       "<p>48522 rows × 2 columns</p>\n",
       "</div>"
      ],
      "text/plain": [
       "                   timestamp_utc  price_eur_per_mwh\n",
       "0      2019-12-31 23:00:00+00:00              41.88\n",
       "1      2020-01-01 00:00:00+00:00              38.60\n",
       "2      2020-01-01 01:00:00+00:00              36.55\n",
       "3      2020-01-01 02:00:00+00:00              32.32\n",
       "4      2020-01-01 03:00:00+00:00              30.85\n",
       "...                          ...                ...\n",
       "48517  2025-08-02 16:00:00+00:00              34.31\n",
       "48518  2025-08-02 17:00:00+00:00              65.01\n",
       "48519  2025-08-02 18:00:00+00:00              74.53\n",
       "48520  2025-08-02 19:00:00+00:00              99.64\n",
       "48521  2025-08-02 21:00:00+00:00              80.50\n",
       "\n",
       "[48522 rows x 2 columns]"
      ]
     },
     "execution_count": 5,
     "metadata": {},
     "output_type": "execute_result"
    }
   ],
   "source": [
    "df_prices"
   ]
  }
 ],
 "metadata": {
  "kernelspec": {
   "display_name": "Python 3 (ipykernel)",
   "language": "python",
   "name": "python3"
  },
  "language_info": {
   "codemirror_mode": {
    "name": "ipython",
    "version": 3
   },
   "file_extension": ".py",
   "mimetype": "text/x-python",
   "name": "python",
   "nbconvert_exporter": "python",
   "pygments_lexer": "ipython3",
   "version": "3.11.5"
  }
 },
 "nbformat": 4,
 "nbformat_minor": 5
}
